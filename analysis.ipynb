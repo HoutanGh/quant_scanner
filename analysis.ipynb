{
 "cells": [
  {
   "cell_type": "code",
   "execution_count": null,
   "id": "64ffd0ca",
   "metadata": {},
   "outputs": [],
   "source": [
    "import matplotlib.pyplot as plt\n",
    "from data import fetch_yfinance_data\n",
    "\n",
    "# Example: fetch data for AAPL\n",
    "stock = \"AAPL\"\n",
    "daily_df, minute_df = fetch_yfinance_data(stock, \"2025-06-09\")"
   ]
  },
  {
   "cell_type": "code",
   "execution_count": null,
   "id": "3f72f462",
   "metadata": {},
   "outputs": [],
   "source": [
    "# Plot daily price vs volume\n",
    "fig, ax1 = plt.subplots(figsize=(12, 6))\n",
    "\n",
    "color = 'tab:blue'\n",
    "ax1.set_xlabel('Date')\n",
    "ax1.set_ylabel('Close Price', color=color)\n",
    "ax1.plot(daily_df['date'], daily_df['close'], color=color, label='Close Price')\n",
    "ax1.tick_params(axis='y', labelcolor=color)\n",
    "\n",
    "ax2 = ax1.twinx()\n",
    "color = 'tab:orange'\n",
    "ax2.set_ylabel('Volume', color=color)\n",
    "ax2.bar(daily_df['date'], daily_df['volume'], color=color, alpha=0.3, label='Volume')\n",
    "ax2.tick_params(axis='y', labelcolor=color)\n",
    "\n",
    "plt.title(f\"{stock} Daily Close Price and Volume\")\n",
    "fig.tight_layout()\n",
    "plt.show()"
   ]
  }
 ],
 "metadata": {
  "kernelspec": {
   "display_name": ".scanner_env",
   "language": "python",
   "name": "python3"
  },
  "language_info": {
   "name": "python",
   "version": "3.11.2"
  }
 },
 "nbformat": 4,
 "nbformat_minor": 5
}
