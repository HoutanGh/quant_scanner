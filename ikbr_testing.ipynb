{
 "cells": [
  {
   "cell_type": "code",
   "execution_count": 1,
   "id": "f0a38a8a",
   "metadata": {},
   "outputs": [
    {
     "name": "stdout",
     "output_type": "stream",
     "text": [
      "Connected: True\n"
     ]
    },
    {
     "name": "stderr",
     "output_type": "stream",
     "text": [
      "Error 1100, reqId -1: Connectivity between IBKR and Trader Workstation has been lost.\n",
      "Error 1102, reqId -1: Connectivity between IBKR and Trader Workstation has been restored - data maintained. The following farms are connected: usfarm; secdefnj. The following farms are not connected: ushmds.\n",
      "Error 1100, reqId -1: Connectivity between IBKR and Trader Workstation has been lost.\n",
      "Error 1102, reqId -1: Connectivity between IBKR and Trader Workstation has been restored - data maintained. The following farms are connected: usfarm; secdefnj. The following farms are not connected: ushmds.\n",
      "Error 1100, reqId -1: Connectivity between IBKR and Trader Workstation has been lost.\n",
      "Error 1102, reqId -1: Connectivity between IBKR and Trader Workstation has been restored - data maintained. The following farms are connected: usfarm; secdefnj. The following farms are not connected: ushmds.\n"
     ]
    }
   ],
   "source": [
    "from ib_insync import IB\n",
    "\n",
    "ib = IB()\n",
    "await ib.connectAsync('172.21.224.1', 7497, clientId=201, timeout=10)\n",
    "print('Connected:', ib.isConnected())\n"
   ]
  },
  {
   "cell_type": "code",
   "execution_count": 2,
   "id": "e2b3ad30",
   "metadata": {},
   "outputs": [
    {
     "name": "stdout",
     "output_type": "stream",
     "text": [
      "IB server time: 2025-09-08 08:27:09+00:00\n"
     ]
    }
   ],
   "source": [
    "t = await ib.reqCurrentTimeAsync()\n",
    "print(\"IB server time:\", t)"
   ]
  },
  {
   "cell_type": "code",
   "execution_count": null,
   "id": "1376ed62",
   "metadata": {},
   "outputs": [],
   "source": []
  }
 ],
 "metadata": {
  "kernelspec": {
   "display_name": ".scanner_env",
   "language": "python",
   "name": "python3"
  },
  "language_info": {
   "codemirror_mode": {
    "name": "ipython",
    "version": 3
   },
   "file_extension": ".py",
   "mimetype": "text/x-python",
   "name": "python",
   "nbconvert_exporter": "python",
   "pygments_lexer": "ipython3",
   "version": "3.11.2"
  }
 },
 "nbformat": 4,
 "nbformat_minor": 5
}
